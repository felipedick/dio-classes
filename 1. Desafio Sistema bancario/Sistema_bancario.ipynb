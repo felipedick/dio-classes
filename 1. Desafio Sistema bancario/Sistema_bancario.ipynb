{
  "nbformat": 4,
  "nbformat_minor": 0,
  "metadata": {
    "colab": {
      "provenance": [],
      "authorship_tag": "ABX9TyMLab/xcOHlXMFgyl+d8VSS",
      "include_colab_link": true
    },
    "kernelspec": {
      "name": "python3",
      "display_name": "Python 3"
    },
    "language_info": {
      "name": "python"
    }
  },
  "cells": [
    {
      "cell_type": "markdown",
      "metadata": {
        "id": "view-in-github",
        "colab_type": "text"
      },
      "source": [
        "<a href=\"https://colab.research.google.com/github/felipedick/dio-classes/blob/main/1.%20Sistema_bancario.ipynb\" target=\"_parent\"><img src=\"https://colab.research.google.com/assets/colab-badge.svg\" alt=\"Open In Colab\"/></a>"
      ]
    },
    {
      "cell_type": "code",
      "source": [
        "#constants\n",
        "\n",
        "LIMITE_SAQUE_DIARIO = float(500.00)\n",
        "LIMITE_NUMERO_SAQUES= int(3)\n",
        "contador_saque=int(1)\n",
        "extrato =''\n",
        "MENU= '''\n",
        "Digite a opção desejada\n",
        "[1] Saque\n",
        "[2] Depósito\n",
        "[3] Extrato\n",
        "[4] Sair\n",
        "\n",
        "'''\n"
      ],
      "metadata": {
        "id": "_dKZnZWxer1o"
      },
      "execution_count": 6,
      "outputs": []
    },
    {
      "cell_type": "code",
      "source": [
        "#Variables\n",
        "saldo = float(1200.00)\n",
        "valor_sacado_no_dia = 0\n",
        "qtde_operacoes =0\n",
        "valor_depositado = int(0)"
      ],
      "metadata": {
        "id": "rXXIE0QOfBrc"
      },
      "execution_count": 7,
      "outputs": []
    },
    {
      "cell_type": "code",
      "source": [
        "#sistema bancário\n",
        "while True:\n",
        "  opcao = input(MENU)\n",
        "  if opcao=='1':\n",
        "    while True:\n",
        "      valor_saque = float(input('Digite o montante do saque: '))\n",
        "      if valor_saque >0:\n",
        "\n",
        "        if valor_sacado_no_dia >=LIMITE_SAQUE_DIARIO:\n",
        "          print ('Limite diário de saque já excedido, não é possivel mais sacar dinheiro hoje. Escolha outra opção no Menu')\n",
        "          break\n",
        "        elif saldo <valor_saque:\n",
        "          print (f'Saldo insuficiente, você tem R${saldo:.2f}')\n",
        "        elif valor_saque + valor_sacado_no_dia >LIMITE_SAQUE_DIARIO:\n",
        "          print (f'Valor a ser sacado excedeu limite diário de R${LIMITE_SAQUE_DIARIO:.2f}')\n",
        "        elif contador_saque >3:\n",
        "          print ('Já foi realizado o máximo número de saques, não é possivel executar operação')\n",
        "          break\n",
        "        else:\n",
        "          saldo -=valor_saque\n",
        "          print(f'Saque no valor de R${valor_saque:.2f} em processo, novo saldo de R${saldo:.2f}')\n",
        "          contador_saque +=1\n",
        "          valor_sacado_no_dia +=valor_saque\n",
        "          qtde_operacoes +=1\n",
        "          extrato += f\"Saque de R${valor_saque:.2f} \\n\"\n",
        "          break\n",
        "      else:\n",
        "        print ('Valor incorreto, insira um valor valido acima de 0')\n",
        "  elif opcao=='2':\n",
        "    valor_depositado = float(input('Digite o valor a ser depositado: '))\n",
        "    if valor_depositado >0:\n",
        "      saldo +=valor_depositado\n",
        "      qtde_operacoes +=1\n",
        "      print (f\"Valor depositado de R${valor_depositado:.2f}. Novo saldo de R$ {saldo:.2f}\" )\n",
        "      extrato += f\"Depósito de R${valor_depositado:.2f} \\n\"\n",
        "    else:\n",
        "      print ('Valor incorreto, insira um valor valido acima de 0')\n",
        "  elif opcao=='3':\n",
        "    if qtde_operacoes ==0:\n",
        "      print ('Não foram realizadas movimentações.')\n",
        "    else:\n",
        "      print(f'***EXTRATO*** \\nSaldo R${saldo:.2f} \\n{extrato}')\n",
        "      #print(f'Saldo: R$ {saldo:.2f} \\nDepósito: R$ {valor_depositado:.2f} \\nSaques: R$ {valor_sacado_no_dia:.2f}')\n",
        "  elif opcao == '4':\n",
        "    break\n",
        "  else:\n",
        "    print('Opção incorreta, digite novamente')\n",
        "print('Obrigado por usar nossos serviços')\n",
        "\n",
        "\n",
        "\n",
        "\n"
      ],
      "metadata": {
        "colab": {
          "base_uri": "https://localhost:8080/"
        },
        "id": "SiUy6ac7fPZq",
        "outputId": "d7d9154b-8904-43a1-b07b-c762324d83a8"
      },
      "execution_count": 8,
      "outputs": [
        {
          "output_type": "stream",
          "name": "stdout",
          "text": [
            "\n",
            "Digite a opção desejada\n",
            "[1] Saque\n",
            "[2] Depósito\n",
            "[3] Extrato\n",
            "[4] Sair\n",
            "\n",
            "1\n",
            "Digite o montante do saque: 200\n",
            "Saque no valor de R$200.00 em processo, novo saldo de R$1000.00\n",
            "\n",
            "Digite a opção desejada\n",
            "[1] Saque\n",
            "[2] Depósito\n",
            "[3] Extrato\n",
            "[4] Sair\n",
            "\n",
            "1\n",
            "Digite o montante do saque: 400\n",
            "Valor a ser sacado excedeu limite diário de R$500.00\n",
            "Digite o montante do saque: 100\n",
            "Saque no valor de R$100.00 em processo, novo saldo de R$900.00\n",
            "\n",
            "Digite a opção desejada\n",
            "[1] Saque\n",
            "[2] Depósito\n",
            "[3] Extrato\n",
            "[4] Sair\n",
            "\n",
            "2\n",
            "Digite o valor a ser depositado: 200\n",
            "Valor depositado de R$200.00. Novo saldo de R$ 1100.00\n",
            "\n",
            "Digite a opção desejada\n",
            "[1] Saque\n",
            "[2] Depósito\n",
            "[3] Extrato\n",
            "[4] Sair\n",
            "\n",
            "3\n",
            "***EXTRATO*** \n",
            "Saldo R$1100.00 \n",
            "Saque de R$200.00 \n",
            "Saque de R$100.00 \n",
            "Depósito de R$200.00 \n",
            "\n",
            "\n",
            "Digite a opção desejada\n",
            "[1] Saque\n",
            "[2] Depósito\n",
            "[3] Extrato\n",
            "[4] Sair\n",
            "\n",
            "4\n",
            "Obrigado por usar nossos serviços\n"
          ]
        }
      ]
    }
  ]
}
