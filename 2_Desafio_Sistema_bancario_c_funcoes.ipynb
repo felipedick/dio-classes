{
  "nbformat": 4,
  "nbformat_minor": 0,
  "metadata": {
    "colab": {
      "provenance": [],
      "authorship_tag": "ABX9TyP7q+hcl+eLYlhBOinChucL",
      "include_colab_link": true
    },
    "kernelspec": {
      "name": "python3",
      "display_name": "Python 3"
    },
    "language_info": {
      "name": "python"
    }
  },
  "cells": [
    {
      "cell_type": "markdown",
      "metadata": {
        "id": "view-in-github",
        "colab_type": "text"
      },
      "source": [
        "<a href=\"https://colab.research.google.com/github/felipedick/dio-classes/blob/main/2_Desafio_Sistema_bancario_c_funcoes.ipynb\" target=\"_parent\"><img src=\"https://colab.research.google.com/assets/colab-badge.svg\" alt=\"Open In Colab\"/></a>"
      ]
    },
    {
      "cell_type": "code",
      "source": [
        "#constants\n",
        "\n",
        "LIMITE_SAQUE_DIARIO = float(500.00)\n",
        "LIMITE_NUMERO_SAQUES= int(3)\n",
        "\n",
        "MENU= '''\n",
        "Digite a opção desejada\n",
        "[1] Saque\n",
        "[2] Depósito\n",
        "[3] Extrato\n",
        "[4] Criar usuário\n",
        "[5] Criar conta-corrente\n",
        "[6] Sair\n",
        "[7] Mostrar contas e usuários cadastrados\n",
        "'''\n"
      ],
      "metadata": {
        "id": "_dKZnZWxer1o"
      },
      "execution_count": 1,
      "outputs": []
    },
    {
      "cell_type": "code",
      "source": [
        "#Variables\n",
        "saldo = float(1200.00)\n",
        "valor_sacado_no_dia = 0\n",
        "qtde_operacoes =0\n",
        "valor_depositado = int(0)\n",
        "contador_saque=int(1)\n",
        "extrato =''\n",
        "conta_corrente = {}\n",
        "cadastro = {}"
      ],
      "metadata": {
        "id": "rXXIE0QOfBrc"
      },
      "execution_count": 2,
      "outputs": []
    },
    {
      "cell_type": "code",
      "source": [
        "from datetime import datetime\n",
        "\n",
        "def validar_data(data_input):\n",
        "    try:\n",
        "        # Tenta converter a string de entrada em um objeto de data\n",
        "        data = datetime.strptime(data_input, '%d-%m-%Y')\n",
        "        return data.strftime('%d-%m-%Y')  # Retorna a data formatada corretamente\n",
        "    except ValueError:\n",
        "        print(\"Data inválida. Insira uma data no formato dd-mm-aaaa.\")\n",
        "        return None"
      ],
      "metadata": {
        "id": "c5XukhQQI9eD"
      },
      "execution_count": 13,
      "outputs": []
    },
    {
      "cell_type": "code",
      "source": [
        "#function saque, considering restrictions on the presentation\n",
        "def saque(*,valor_sacado_no_dia, LIMITE_SAQUE_DIARIO, saldo,contador_saque, extrato,qtde_operacoes):\n",
        "  while True:\n",
        "    try:\n",
        "      valor_saque = float(input('Digite o montante do saque: '))\n",
        "      if valor_saque >0: #Aceita valores apenas acima de zero, se colocado valor negativo, dá mensagem de erro\n",
        "\n",
        "        if valor_sacado_no_dia >=LIMITE_SAQUE_DIARIO: #caso limite diário já tenha sido atingito, não permite novo saque\n",
        "          print ('Limite diário de saque já excedido, não é possivel mais sacar dinheiro hoje. Escolha outra opção no Menu')\n",
        "          break\n",
        "        elif saldo <valor_saque: #permite saques apenas se tem saldo na conta\n",
        "          print (f'Saldo insuficiente, você tem R${saldo:.2f}')\n",
        "        elif valor_saque + valor_sacado_no_dia >LIMITE_SAQUE_DIARIO: #verifica se valor solicitado somado ao valor já saco no dia irá exceder limite diário\n",
        "          print (f'Valor a ser sacado excedeu limite diário de R${LIMITE_SAQUE_DIARIO:.2f}')\n",
        "          break\n",
        "        elif contador_saque >LIMITE_NUMERO_SAQUES: #limite de quantidade de saques\n",
        "          print ('Já foi realizado o máximo número de saques, não é possivel executar operação')\n",
        "          break\n",
        "        else:\n",
        "          saldo -=valor_saque\n",
        "          print(f'Saque no valor de R${valor_saque:.2f} em processo, novo saldo de R${saldo:.2f}')\n",
        "          contador_saque +=1\n",
        "          valor_sacado_no_dia +=valor_saque\n",
        "          qtde_operacoes +=1\n",
        "          extrato += f\"Saque de R${valor_saque:.2f} \\n\"\n",
        "          break\n",
        "      else:\n",
        "        print ('Valor incorreto, insira um valor valido acima de 0')\n",
        "    except ValueError:\n",
        "      print('Entrada inválida. Por favor, insira um número válido.')\n",
        "\n",
        "  return valor_sacado_no_dia, saldo, contador_saque, extrato, qtde_operacoes\n"
      ],
      "metadata": {
        "id": "jwR_L-rYt_ZE"
      },
      "execution_count": 11,
      "outputs": []
    },
    {
      "cell_type": "code",
      "source": [
        "def deposito (saldo, qtde_operacoes,extrato,/):\n",
        "  valor_depositado = float(input('Digite o valor a ser depositado: '))\n",
        "  if valor_depositado >0: #Aceita valores apenas acima de zero, se colocado valor negativo, dá mensagem de erro\n",
        "    saldo +=(valor_depositado)\n",
        "    qtde_operacoes +=1\n",
        "    print (f\"Valor depositado de R${valor_depositado:.2f}. Novo saldo de R$ {saldo:.2f}\" )\n",
        "    extrato += f\"Depósito de R${valor_depositado:.2f} \\n\"\n",
        "  else:\n",
        "    print ('Valor incorreto, insira um valor valido acima de 0')\n",
        "  return saldo,qtde_operacoes,extrato"
      ],
      "metadata": {
        "id": "PrckpXCZyKS7"
      },
      "execution_count": 4,
      "outputs": []
    },
    {
      "cell_type": "code",
      "source": [
        "def mostra_extrato (qtde_operacoes,saldo,/,*, extrato):\n",
        "  if qtde_operacoes ==0:\n",
        "    print ('Não foram realizadas movimentações.')\n",
        "  else:\n",
        "    print(f'***EXTRATO*** \\nSaldo R${saldo:.2f} \\n{extrato}')"
      ],
      "metadata": {
        "id": "eXOX3Ny3ztg3"
      },
      "execution_count": 5,
      "outputs": []
    },
    {
      "cell_type": "code",
      "source": [
        "def criar_usuario(cadastro): #cpf, nome, endereco e data de nascimento'\n",
        "  while True:\n",
        "    cpf = input('CPF - apenas números sem traços ou pontos: (Caso deseje sair, digite s) ')\n",
        "    if cpf in cadastro:\n",
        "      print('CPF / Usuário já existente, insira outro CPF. ')\n",
        "    elif cpf.lower() == 's':\n",
        "      break\n",
        "    else:\n",
        "      nome = input ('Insira nome completo: ')\n",
        "      endereco = input ('Insira endereco (Logradouro, nro, bairro, cidade/estado(sigla): ' )\n",
        "      data_nascimento = input('Insira data de nascimento: (dd-mm-aaaa')\n",
        "\n",
        "      data_valida = None\n",
        "\n",
        "      while data_valida is None:\n",
        "        data_valida = validar_data(data_nascimento)\n",
        "        if data_valida is None:  # Se a data não for válida, solicita novamente\n",
        "          data_nascimento = input(\"Data de nascimento: (dd-mm-aaaa): \")\n",
        "\n",
        "      cadastro[cpf] = {'nome': nome, 'endereco': endereco, 'data_nascimento':data_nascimento}\n",
        "      print(f\"CPF Cadastrado: {cpf}\")\n",
        "      print(f\"Nome : {cadastro [cpf] ['nome']}\")\n",
        "      print(f\"Endereço : {cadastro [cpf] ['endereco']}\")\n",
        "      print(f\"Data de nascimento: {cadastro[cpf]['data_nascimento']} \")\n",
        "      break\n",
        "\n",
        "  return cadastro"
      ],
      "metadata": {
        "id": "W3MCrVC94vQC"
      },
      "execution_count": 16,
      "outputs": []
    },
    {
      "cell_type": "code",
      "source": [
        "def criar_conta_corrente (cadastro, conta_corrente):\n",
        "  while True:\n",
        "    cpf = input('Informe o cpf do usuário. (Aperte s para sair)')\n",
        "    if cpf.lower() == 's': #caso usuario digite \"S\" (maiusculo), aceita como opção para sair\n",
        "      break\n",
        "    else:\n",
        "      if cpf in cadastro: #caso CPF, existe, cadastra, se não existir, dá mensagem de erro\n",
        "        numero_conta = len(conta_corrente) +1\n",
        "        conta_corrente[numero_conta] = {\n",
        "            'cpf': cpf,\n",
        "            'agencia' : '0001',\n",
        "\n",
        "        }\n",
        "        print (f\"Conta cadastrada. Usuário {cpf}, agencia: {conta_corrente[numero_conta]['agencia']}, conta corrente:{numero_conta} \")\n",
        "        break\n",
        "      else:\n",
        "        print('Usuário não cadastrado. Informe um usuário cadastrado ou cadastre um novo usuário')\n",
        "  return conta_corrente"
      ],
      "metadata": {
        "id": "Olu0YNujrHfc"
      },
      "execution_count": 7,
      "outputs": []
    },
    {
      "cell_type": "code",
      "source": [
        "def exibir_cadastro(cadastro, conta_corrente):\n",
        "  print(\"=\"*50 ,'\\n\\033[1mCadastros de usuário:\\033[0m')\n",
        "  for cpf, dados in cadastro.items():\n",
        "    print(f\"CPF: {cpf}, Nome: {dados['nome']}, Data de Nascimento: {dados['data_nascimento']}\" )\n",
        "  print('\\n', \"=\"*50, '\\n\\033[1mCadastros de contas:\\033[0m')\n",
        "  for numero_conta,conta in conta_corrente.items():\n",
        "    print (f\"Número da conta {numero_conta} , CPF: {conta['cpf']}, agencia: {conta['agencia']}, nome: {cadastro[conta['cpf']]['nome']  } \")"
      ],
      "metadata": {
        "id": "nRtuk4zKlbNE"
      },
      "execution_count": 18,
      "outputs": []
    },
    {
      "cell_type": "code",
      "source": [
        "#sistema bancário\n",
        "while True:\n",
        "  opcao = input(MENU)\n",
        "  if opcao=='1':\n",
        "    valor_sacado_no_dia, saldo, contador_saque, extrato, qtde_operacoes = saque(valor_sacado_no_dia=valor_sacado_no_dia , LIMITE_SAQUE_DIARIO=LIMITE_SAQUE_DIARIO, saldo=saldo,\n",
        "                                                                                contador_saque=contador_saque, extrato=extrato,qtde_operacoes=qtde_operacoes)\n",
        "  elif opcao=='2':\n",
        "    saldo,qtde_operacoes,extrato = deposito (saldo,qtde_operacoes,extrato)\n",
        "\n",
        "  elif opcao=='3':\n",
        "    mostra_extrato (qtde_operacoes,saldo, extrato=extrato)\n",
        "  elif opcao == '4':\n",
        "    cadastro = criar_usuario (cadastro)\n",
        "  elif opcao =='5':\n",
        "    conta_corrente = criar_conta_corrente(cadastro,conta_corrente)\n",
        "  elif opcao =='6':\n",
        "    break\n",
        "  elif opcao =='7':\n",
        "    exibir_cadastro(cadastro, conta_corrente)\n",
        "  else:\n",
        "    print('Opção incorreta, digite novamente')\n",
        "print('Obrigado por usar nossos serviços')\n",
        "\n",
        "\n",
        "\n",
        "\n"
      ],
      "metadata": {
        "colab": {
          "base_uri": "https://localhost:8080/"
        },
        "id": "SiUy6ac7fPZq",
        "outputId": "9defe365-32c3-4f06-c6e6-a279422e33ad"
      },
      "execution_count": null,
      "outputs": [
        {
          "output_type": "stream",
          "name": "stdout",
          "text": [
            "\n",
            "Digite a opção desejada\n",
            "[1] Saque\n",
            "[2] Depósito\n",
            "[3] Extrato\n",
            "[4] Criar usuário\n",
            "[5] Criar conta-corrente\n",
            "[6] Sair\n",
            "[7] Mostrar contas e usuários cadastrados\n",
            "7\n",
            "================================================== \n",
            "\u001b[1mCadastros de usuário:\u001b[0m\n",
            "CPF: 1, Nome: Felipe D, Data de Nascimento: 07/10/1988\n",
            "CPF: 2, Nome: Judith, Data de Nascimento: 22/03/1970\n",
            "CPF: 5, Nome: Bruna, Data de Nascimento: 01-07-1978\n",
            "\n",
            " ================================================== \n",
            "\u001b[1mCadastros de contas:\u001b[0m\n",
            "Número da conta 1 , CPF: 1, agencia: 0001, nome: Felipe D \n",
            "Número da conta 2 , CPF: 1, agencia: 0001, nome: Felipe D \n",
            "Número da conta 3 , CPF: 2, agencia: 0001, nome: Judith \n"
          ]
        }
      ]
    }
  ]
}